{
 "cells": [
  {
   "attachments": {},
   "cell_type": "markdown",
   "metadata": {},
   "source": [
    "<div><img style=\"float: right; width: 120px; vertical-align:middle\" src=\"https://www.upm.es/sfs/Rectorado/Gabinete%20del%20Rector/Logos/EU_Informatica/ETSI%20SIST_INFORM_COLOR.png\" alt=\"ETSISI logo\" />\n",
    "\n",
    "\n",
    "# Implementación de un Algoritmo Genético para Resolver el Problema del Bipedal Walker con Gym<a id=\"top\"></a>\n",
    "\n",
    "<i><small>Grupo: NeoTech<br>Última actualización: 2023-05-20</small></i></div>\n",
    "\n",
    "\n",
    "***"
   ]
  },
  {
   "attachments": {},
   "cell_type": "markdown",
   "metadata": {},
   "source": [
    "## Introducción y objetivos"
   ]
  },
  {
   "attachments": {},
   "cell_type": "markdown",
   "metadata": {},
   "source": [
    "El problema del **Bipedal Walker** representa un reto en el campo de la inteligencia artificial donde el objetivo es desarrollar un algoritmo capaz de controlar el movimiento de un andador bípedo. \n",
    " \n",
    "Este proyecto propone  un enfoque basado en algoritmos genéticos para resolver este reto. Los algoritmos genéticos son técnicas inspiradas en la evolución biológica que combinan selección, cruce y mutación para encontrar soluciones óptimas en un espacio de búsqueda. En este contexto, se utiliza un **algoritmo genético con Gym** para proporcionar un entorno  simulado para evaluar el rendimiento de un Bipedal Walker."
   ]
  },
  {
   "attachments": {},
   "cell_type": "markdown",
   "metadata": {},
   "source": [
    "## Imports y configuración\n",
    "\n",
    "A continuación importaremos las librerías que se usarán a lo largo del _notebook_. Se deberá tambien instalar Anaconda."
   ]
  },
  {
   "cell_type": "code",
   "execution_count": null,
   "metadata": {},
   "outputs": [],
   "source": [
    "import gym\n",
    "import random\n",
    "import numpy as np\n",
    "from operator import attrgetter\n",
    "import matplotlib.pyplot as plt"
   ]
  },
  {
   "attachments": {},
   "cell_type": "markdown",
   "metadata": {},
   "source": [
    "***"
   ]
  },
  {
   "attachments": {},
   "cell_type": "markdown",
   "metadata": {},
   "source": [
    "## Definición de las clases\n",
    "\n",
    "- **Población**: Representa una población de individuos en el algoritmo genético\n",
    "- **Individuo**: Representa a un individuo en la población"
   ]
  },
  {
   "attachments": {},
   "cell_type": "markdown",
   "metadata": {},
   "source": [
    "## Métodos de la clase Individuo"
   ]
  },
  {
   "attachments": {},
   "cell_type": "markdown",
   "metadata": {},
   "source": [
    "(Hace falta llamar a env antes)"
   ]
  },
  {
   "cell_type": "code",
   "execution_count": null,
   "metadata": {},
   "outputs": [],
   "source": [
    "class Individuo:\n",
    "    # Inicializa el individuo con una lista de acciones aleatorias\n",
    "    def __init__(self, num_acciones):\n",
    "        self.acciones = [env.action_space.sample() for _ in range(num_acciones)]\n",
    "        self.valor_fitness = 0\n",
    "        self.probabilidad_seleccion = 0\n",
    "\n",
    "    # Calcula el valor de fitness del individuo en base a la recompensa total obtenida\n",
    "    def calcular_valor_fitness(self, recompensa_total):\n",
    "        self.valor_fitness = recompensa_total\n",
    "\n",
    "    # Establece la probabilidad de selección del individuo en la población\n",
    "    def set_probabilidad_seleccion(self, probabilidad):\n",
    "        self.probabilidad_seleccion = probabilidad"
   ]
  },
  {
   "attachments": {},
   "cell_type": "markdown",
   "metadata": {},
   "source": [
    "## Métodos de la clase Poblacion"
   ]
  },
  {
   "cell_type": "code",
   "execution_count": null,
   "metadata": {},
   "outputs": [],
   "source": [
    "class Poblacion:\n",
    "    def __init__(self):\n",
    "        self.individuos = []\n",
    "\n",
    "    # Calcula la probabilidad de selección de cada individuo en la población \n",
    "    # basándose en su valor de fitness\n",
    "    def calcular_probabilidad_seleccion(self):\n",
    "        recompensas_normalizadas = []\n",
    "        recompensas_minimas = float(\"inf\")\n",
    "        suma_recompensas = 0\n",
    "\n",
    "        for individuo in self.individuos:\n",
    "            if individuo.valor_fitness <= recompensas_minimas:\n",
    "                recompensas_minimas = individuo.valor_fitness\n",
    "\n",
    "        for individuo in self.individuos:\n",
    "            suma_recompensas += individuo.valor_fitness + abs(recompensas_minimas) + 1\n",
    "\n",
    "        for individuo in self.individuos:\n",
    "            recompensas_normalizadas.append((individuo.valor_fitness + abs(recompensas_minimas) + 1) / suma_recompensas)\n",
    "\n",
    "        # Creamos la distribución de probabilidad de selección\n",
    "        for i in range(len(recompensas_normalizadas)):\n",
    "            self.individuos[i].set_probabilidad_seleccion(recompensas_normalizadas[i])\n",
    "\n",
    "    # Selecciona aleatoriamente dos Individuos de la población para el cruce\n",
    "    def seleccionar_pares_individuos(self):\n",
    "        probabilidades_acumulativas = []\n",
    "        suma_parcial = 0\n",
    "\n",
    "        for individuo in self.individuos:\n",
    "            suma_parcial += individuo.probabilidad_seleccion\n",
    "            probabilidades_acumulativas.append(suma_parcial)\n",
    "\n",
    "        numero_aleatorio_1 = random.uniform(0.0, 1.0)\n",
    "        numero_aleatorio_2 = random.uniform(0.0, 1.0)\n",
    "        indice_seleccionado_1 = -1\n",
    "        indice_seleccionado_2 = -1\n",
    "\n",
    "        # Obtenemos los índices de los individuos seleccionados\n",
    "        for i in range(len(probabilidades_acumulativas)):\n",
    "            if numero_aleatorio_1 <= probabilidades_acumulativas[i]:\n",
    "                indice_seleccionado_1 = i\n",
    "                break\n",
    "\n",
    "        for i in range(len(probabilidades_acumulativas)):\n",
    "            if numero_aleatorio_2 <= probabilidades_acumulativas[i]:\n",
    "                indice_seleccionado_2 = i\n",
    "                break\n",
    "\n",
    "        return indice_seleccionado_1, indice_seleccionado_2\n",
    "\n",
    "    # Ejecuta el entorno de Gym para cada individuo de la población durante un número determinado de iteraciones (playout)\n",
    "    # y calcula el valor de fitness de cada individuo en base a las recompensas obtenidas\n",
    "    def realizar_playout(self, num_individuos, num_acciones, num_playout, env):\n",
    "        for i in range(num_individuos):\n",
    "            env.reset()\n",
    "            suma_recompensas = 0\n",
    "\n",
    "            for _ in range(num_playout // num_acciones):\n",
    "                for j in range(num_acciones):\n",
    "                    accion = self.individuos[i].acciones[j]\n",
    "                    _, recompensa, _, _ = env.step(accion)\n",
    "                    suma_recompensas += recompensa\n",
    "\n",
    "            self.individuos[i].calcular_valor_fitness(suma_recompensas)\n",
    "\n",
    "    # Realiza la mutación en los individuos de la población con una cierta probabilidad y número de mutaciones\n",
    "    def mutacion(self, num_acciones, porcentaje_mutacion, num_mutaciones):\n",
    "        for individuo in self.individuos:\n",
    "            probabilidad_mutacion = random.randint(0, 100)\n",
    "\n",
    "            if probabilidad_mutacion >= porcentaje_mutacion * 100:\n",
    "                continue\n",
    "\n",
    "            # Generar los índices de acciones a mutar\n",
    "            indices_mutacion = random.sample(range(num_acciones), num_mutaciones)\n",
    "\n",
    "            for indice in indices_mutacion:\n",
    "                individuo.acciones[indice] = env.action_space.sample()\n",
    "\n",
    "    # Realiza el cruce entre los individuos de la población para generar una nueva población\n",
    "    def cruce(self, num_acciones, elite):\n",
    "        nueva_poblacion = []\n",
    "        nueva_poblacion.extend(elite)\n",
    "\n",
    "        for i in range(len(elite), len(self.individ.uos), 2):\n",
    "            padre1, padre2 = self.individuos[i], self.individuos[i + 1]\n",
    "            hijo1 = Individuo(num_acciones)\n",
    "            hijo2 = Individuo(num_acciones)\n",
    "            punto_corte = random.randint(1, num_acciones - 1)\n",
    "\n",
    "            hijo1.acciones = padre1.acciones[:punto_corte] + padre2.acciones[punto_corte:]\n",
    "            hijo2.acciones = padre2.acciones[:punto_corte] + padre1.acciones[punto_corte:]\n",
    "\n",
    "            nueva_poblacion.extend([hijo1, hijo2])\n",
    "        self.individuos = nueva_poblacion\n",
    "\n",
    "    # Ejecuta el algoritmo genético durante un número determinado de generaciones, utilizando los métodos de antes\n",
    "    def ejecutar_algoritmo_genetico(self, num_generaciones, num_individuos, num_acciones, num_playout, porcentaje_mutacion, num_mutaciones, env):\n",
    "        mejores_fitness = []\n",
    "\n",
    "        for _ in range(num_generaciones):\n",
    "            elite = self.seleccionar_elite(num_individuos)\n",
    "            self.calcular_probabilidad_seleccion()\n",
    "            self.realizar_playout(num_individuos, num_acciones, num_playout, env)\n",
    "            self.mutacion(num_acciones, porcentaje_mutacion, num_mutaciones)\n",
    "            self.cruce(num_acciones, elite)\n",
    "\n",
    "            mejor_individuo = max(self.individuos, key=attrgetter('valor_fitness'))\n",
    "            mejores_fitness.append(mejor_individuo.valor_fitness)\n",
    "\n",
    "        return mejores_fitness\n"
   ]
  },
  {
   "attachments": {},
   "cell_type": "markdown",
   "metadata": {},
   "source": [
    "***"
   ]
  },
  {
   "attachments": {},
   "cell_type": "markdown",
   "metadata": {},
   "source": [
    "## Configuración de parámetros"
   ]
  },
  {
   "cell_type": "code",
   "execution_count": null,
   "metadata": {},
   "outputs": [],
   "source": [
    "num_generaciones = 100           # Número de generaciones\n",
    "num_individuos = 50              # Número PAR de individuos en la población\n",
    "num_acciones = 40                # Número de acciones posibles por individuo (múltiplo de 4 debido a la mutacion -0.75)\n",
    "num_playout = 500                # Número de iteraciones (playout) por individuo\n",
    "porcentaje_mutacion = 0.5        # Porcentaje de individuos que sufrirán mutación\n",
    "num_mutaciones = 1               # Número de mutaciones que se aplicarán por individuo"
   ]
  },
  {
   "attachments": {},
   "cell_type": "markdown",
   "metadata": {},
   "source": [
    "## Crear el ambiente de Gym"
   ]
  },
  {
   "cell_type": "code",
   "execution_count": null,
   "metadata": {},
   "outputs": [],
   "source": [
    "env = gym.make('BipedalWalker-v3')"
   ]
  },
  {
   "attachments": {},
   "cell_type": "markdown",
   "metadata": {},
   "source": [
    "## Crear la población inicial"
   ]
  },
  {
   "cell_type": "code",
   "execution_count": null,
   "metadata": {},
   "outputs": [],
   "source": [
    "poblacion = Poblacion()\n",
    "for _ in range(num_individuos):\n",
    "    individuo = Individuo(num_acciones)\n",
    "    poblacion.individuos.append(individuo)"
   ]
  },
  {
   "attachments": {},
   "cell_type": "markdown",
   "metadata": {},
   "source": [
    "## Ejecutar el algoritmo genético"
   ]
  },
  {
   "cell_type": "code",
   "execution_count": null,
   "metadata": {},
   "outputs": [],
   "source": [
    "mejores_fitness = poblacion.ejecutar_algoritmo_genetico(num_generaciones, num_individuos, num_acciones, num_playout, porcentaje_mutacion, num_mutaciones, env)"
   ]
  },
  {
   "attachments": {},
   "cell_type": "markdown",
   "metadata": {},
   "source": [
    "***"
   ]
  },
  {
   "attachments": {},
   "cell_type": "markdown",
   "metadata": {},
   "source": [
    "## Mostrar resultados"
   ]
  },
  {
   "cell_type": "code",
   "execution_count": null,
   "metadata": {},
   "outputs": [],
   "source": [
    "plt.plot(range(num_generaciones), mejores_fitness)\n",
    "plt.xlabel('Generación')\n",
    "plt.ylabel('Mejor Fitness')\n",
    "plt.title('Evolución del Mejor Fitness')\n",
    "plt.show()"
   ]
  },
  {
   "attachments": {},
   "cell_type": "markdown",
   "metadata": {},
   "source": [
    "//METER FOTOS"
   ]
  }
 ],
 "metadata": {
  "language_info": {
   "name": "python"
  },
  "orig_nbformat": 4
 },
 "nbformat": 4,
 "nbformat_minor": 2
}
